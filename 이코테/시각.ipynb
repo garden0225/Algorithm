{
  "nbformat": 4,
  "nbformat_minor": 0,
  "metadata": {
    "colab": {
      "provenance": []
    },
    "kernelspec": {
      "name": "python3",
      "display_name": "Python 3"
    },
    "language_info": {
      "name": "python"
    }
  },
  "cells": [
    {
      "cell_type": "code",
      "source": [
        "n = int(input())\n",
        "result = 0\n",
        "\n",
        "for h in range(n+1):        # 0시 ~ n시\n",
        "    for m in range(60):     # 0분 ~ 59분\n",
        "        for s in range(60): # 0초 ~ 59초\n",
        "            # 시각을 문자열로 바꿔서 '3'이 들어가 있는지 확인\n",
        "            if '3' in f\"{h}{m}{s}\":\n",
        "                result += 1\n",
        "\n",
        "print(result)"
      ],
      "metadata": {
        "id": "3kO2Zx48oMkx"
      },
      "execution_count": null,
      "outputs": []
    }
  ]
}