{
  "nbformat": 4,
  "nbformat_minor": 0,
  "metadata": {
    "colab": {
      "provenance": []
    },
    "kernelspec": {
      "name": "python3",
      "display_name": "Python 3"
    },
    "language_info": {
      "name": "python"
    }
  },
  "cells": [
    {
      "cell_type": "code",
      "execution_count": null,
      "metadata": {
        "id": "yf_KtSONRUpk",
        "colab": {
          "base_uri": "https://localhost:8080/"
        },
        "outputId": "76145814-1ad9-4263-f505-f4ebb0bed3d0"
      },
      "outputs": [
        {
          "output_type": "stream",
          "name": "stdout",
          "text": [
            "25 5\n",
            "2\n"
          ]
        }
      ],
      "source": [
        "data = input()\n",
        "row = int(data[1])\n",
        "col = int(ord(data[0])-ord(\"a\"))+1\n",
        "result =0\n",
        "\n",
        "steps = [ (1,2),(2,1),(-1,2),(2,-1),(1,-2),(-2,1),(-1,-2),(-2,-1)]\n",
        "\n",
        "for i in steps:\n",
        "    n_row = row + i[0]\n",
        "    n_col = col + i[1]\n",
        "    # 해당 위치로 이동이 가능하다면 카운트 증가\n",
        "    if n_row >= 1 and n_col <= 8 and n_col >=1 and n_row <=8:\n",
        "        result +=1\n",
        "print(result)"
      ]
    },
    {
      "cell_type": "code",
      "source": [
        "# ord(char) - ord('A') + 1"
      ],
      "metadata": {
        "id": "3kO2Zx48oMkx"
      },
      "execution_count": null,
      "outputs": []
    }
  ]
}