{
  "nbformat": 4,
  "nbformat_minor": 0,
  "metadata": {
    "colab": {
      "provenance": []
    },
    "kernelspec": {
      "name": "python3",
      "display_name": "Python 3"
    },
    "language_info": {
      "name": "python"
    }
  },
  "cells": [
    {
      "cell_type": "code",
      "execution_count": null,
      "metadata": {
        "id": "yf_KtSONRUpk",
        "colab": {
          "base_uri": "https://localhost:8080/"
        },
        "outputId": "76145814-1ad9-4263-f505-f4ebb0bed3d0"
      },
      "outputs": [
        {
          "output_type": "stream",
          "name": "stdout",
          "text": [
            "25 5\n",
            "2\n"
          ]
        }
      ],
      "source": [
        "n, m = map(int, input().split())\n",
        "x, y, d = map(int, input().split())\n",
        "li = []\n",
        "for i in range(n):\n",
        "    li.append(list(map(int, input().split()))) # map() 객체 자체를 넣으면 안 되고, 리스트로 변환\n",
        "\n",
        "# 방문한 위치 저장용 앱 (0이면 미방문, 1이면 방문)\n",
        "d_map = [[0]*m for i in range(n)]\n",
        "d_map[x][y] = 1 # 시작 위치는 방문 처리\n",
        "\n",
        "# 방향 정의: 북(-1,0), 동(0,1), 남(1,0), 서(0,-1)\n",
        "dx = [-1, 0, 1, 0]\n",
        "dy = [0, 1, 0, -1]\n",
        "\n",
        "\n",
        "# 움직이는 함수\n",
        "def turn():\n",
        "    global d # global x를 쓰면 \"나는 함수 안이지만, 밖에 있는 x를 바꿀 거야!\" 라는 뜻\n",
        "    d -= 1\n",
        "    if d == -1: d = 3\n",
        "\n",
        "count = 1 # 이동한 칸의 수\n",
        "turn_count = 0 # 회전 수\n",
        "\n",
        "# 시물레이션\n",
        "while True:\n",
        "    # 왼쪽으로 회전\n",
        "    turn()\n",
        "    nx = x + dx[d]\n",
        "    ny = y + dy[d]\n",
        "\n",
        "    # 아직 안 가본 맵이고, 육지이면 이동\n",
        "    if d_map[nx][ny] == 0 and li[nx][ny] == 0:\n",
        "        d_map[nx][ny] = 1\n",
        "        x, y = nx, ny\n",
        "        count+=1\n",
        "        turn_count = 0  # 다시 회전 횟수 초기화\n",
        "        continue\n",
        "    else:\n",
        "        turn_count += 1  # 이동 못했으면 회전 횟수 추가\n",
        "\n",
        "    # 네 방향 다 못 가면 후진\n",
        "    if turn_count ==4:\n",
        "        # 뒤 방향 좌표 계산\n",
        "        back_x = x - dx[d]\n",
        "        back_y = y - dy[d]\n",
        "\n",
        "        # 뒤가 육지면 이동\n",
        "        if li[back_x][back_y] == 0:\n",
        "            x, y = back_x, back_y\n",
        "            turn_count = 0\n",
        "        else:\n",
        "            break  # 뒤도 바다면 게임 끝\n",
        "\n",
        "# 최종 결과 출력\n",
        "print(count)\n"
      ]
    },
    {
      "cell_type": "code",
      "source": [
        "# ord(char) - ord('A') + 1"
      ],
      "metadata": {
        "id": "3kO2Zx48oMkx"
      },
      "execution_count": null,
      "outputs": []
    }
  ]
}