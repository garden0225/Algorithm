{
  "nbformat": 4,
  "nbformat_minor": 0,
  "metadata": {
    "colab": {
      "provenance": []
    },
    "kernelspec": {
      "name": "python3",
      "display_name": "Python 3"
    },
    "language_info": {
      "name": "python"
    }
  },
  "cells": [
    {
      "cell_type": "code",
      "source": [
        "n = input()\n",
        "plans = input().split()\n",
        "\n",
        "# 현재 위치\n",
        "x ,y =1,1\n",
        "\n",
        "# 동 서 남 북 입력\n",
        "map_x = [0,0,-1,1]\n",
        "map_y = [1,-1,0,0]\n",
        "types = [\"L\",\"R\",\"U\",\"D\"]\n",
        "\n",
        "# 시물레이션\n",
        "for i in plans:\n",
        "    for j in range(4):\n",
        "        if i == types[j]:\n",
        "            nx = x + dx[j]\n",
        "            ny = y + dy[j]\n",
        "        if 1 <= nx <= n and 1 <= ny <= n:\n",
        "            x, y = ny, ny\n",
        "print(x,y)"
      ],
      "metadata": {
        "id": "3kO2Zx48oMkx"
      },
      "execution_count": null,
      "outputs": []
    }
  ]
}